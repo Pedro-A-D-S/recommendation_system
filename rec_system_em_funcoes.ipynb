{
 "cells": [
  {
   "cell_type": "markdown",
   "metadata": {},
   "source": [
    "Este notebook destina-se a refinar as funções geradas no notebook raw para que estas sejam acessáveis de maneira simples e possam ser utilizadas com outros dataframes."
   ]
  },
  {
   "cell_type": "markdown",
   "metadata": {},
   "source": [
    "# Imports"
   ]
  },
  {
   "cell_type": "code",
   "execution_count": 1,
   "metadata": {},
   "outputs": [],
   "source": [
    "import pandas as pd\n",
    "import matplotlib.pyplot as plt\n",
    "import numpy as np\n",
    "from math import sqrt"
   ]
  },
  {
   "cell_type": "markdown",
   "metadata": {},
   "source": [
    "# Funções"
   ]
  },
  {
   "cell_type": "code",
   "execution_count": 2,
   "metadata": {},
   "outputs": [],
   "source": [
    "def get_data(filmes_path, notas_path):\n",
    "        # lendo os dados\n",
    "        filmes = pd.read_csv(filmes_path)\n",
    "        notas = pd.read_csv(notas_path)\n",
    "\n",
    "        # alterando os nomes das colunas\n",
    "        filmes.columns = ['filmeId', 'titulo', 'generos']\n",
    "        notas.columns = ['usuarioId', 'filmeId', 'nota', 'momento']\n",
    "        notas.drop(columns = ['momento'], inplace = True)\n",
    "        return filmes, notas"
   ]
  },
  {
   "cell_type": "code",
   "execution_count": 3,
   "metadata": {},
   "outputs": [],
   "source": [
    "def aux_df(df_notas, df_filmes):\n",
    "        # criando tabela única para melhor análise\n",
    "        df = pd.merge(df_notas, df_filmes, how = 'left', right_on = 'filmeId', left_on = 'filmeId')\n",
    "        # criando coluna com a quantidade de notas atribuídas aos filmes\n",
    "        df_aux = df.groupby(by = 'filmeId').agg({'nota':'count'}).reset_index()\n",
    "        # juntando o dataframe inicial com a coluna de quantidade de notas\n",
    "        df = pd.merge(df, df_aux, how = 'left', right_on = 'filmeId', left_on = 'filmeId')\n",
    "        # renomeando colunas\n",
    "        df.rename(columns = {'nota_x':'nota', 'nota_y':'total_de_votos'}, inplace = True)\n",
    "        # obtendo os filmes mais votados pelas pessoas e suas notas médias\n",
    "        df_aux2 = df.groupby(by = ['titulo', 'filmeId']).agg({'total_de_votos':'count', \n",
    "        'nota':'mean'}).reset_index().sort_values(by = 'total_de_votos', ascending = False)\n",
    "        df_aux2.rename(columns = {'nota':'nota_media'}, inplace = True)\n",
    "        # filtrando colunas\n",
    "        df_aux3 = df_aux2[['filmeId', 'nota_media']]\n",
    "        # dataframe na forma final\n",
    "        df = pd.merge(df, df_aux3, how = 'left', right_on = 'filmeId', left_on = 'filmeId')\n",
    "\n",
    "        return df"
   ]
  },
  {
   "cell_type": "code",
   "execution_count": 4,
   "metadata": {},
   "outputs": [],
   "source": [
    "# função que calcula a distância euclidiana entre dois vetores\n",
    "def distancia_de_vetores(vetor_a, vetor_b):\n",
    "    dist = np.linalg.norm(vetor_a - vetor_b)\n",
    "    return dist"
   ]
  },
  {
   "cell_type": "code",
   "execution_count": 5,
   "metadata": {},
   "outputs": [],
   "source": [
    "# função que retorna dataframe com os coluna de notas e index como o id do filme\n",
    "def notas_do_usuario(data_frame, usuario_id):\n",
    "    # fltra o dataframe pelo usuarioId\n",
    "    notas_do_usuario = data_frame[data_frame['usuarioId'] == usuario_id]\n",
    "        \n",
    "    # setta o index como a coluna de filmeId\n",
    "    notas_do_usuario = notas_do_usuario[['filmeId', 'nota']].set_index(['filmeId'])\n",
    "    return notas_do_usuario"
   ]
  },
  {
   "cell_type": "code",
   "execution_count": 6,
   "metadata": {},
   "outputs": [],
   "source": [
    "def distancia_de_usuarios(usuario_id1, usuario_id2):\n",
    "        # trás notas dos usuários 1 e 2\n",
    "        notas1 = notas_do_usuario(data_frame = df, usuario_id = usuario_id1)\n",
    "        notas2 = notas_do_usuario(data_frame = df, usuario_id = usuario_id2)\n",
    "\n",
    "        # trazer somente os filmes que os dois usuários assistiram\n",
    "        diferencas = notas1.join(notas2, lsuffix = '_esquerda', rsuffix = '_direita').dropna()\n",
    "\n",
    "        # calcula a distância entre os dois usuários\n",
    "        distancia = distancia_de_vetores(diferencas['nota_esquerda'], diferencas['nota_direita'])\n",
    "        return [usuario_id1, usuario_id2, distancia]"
   ]
  },
  {
   "cell_type": "code",
   "execution_count": 7,
   "metadata": {},
   "outputs": [],
   "source": [
    "def distancia_de_todos(self, id_usuario):\n",
    "        self.notas\n",
    "        self.distancia_de_usuarios()\n",
    "        todos_os_usuarios = notas['usuarioId'].unique()\n",
    "        distancias = [distancia_de_usuarios(id_usuario, usuario_id) for usuario_id in todos_os_usuarios]\n",
    "        distancias_de_todos = pd.DataFrame(distancias, columns = ['voce', 'outra_pessoa', 'distancia'])\n",
    "        return distancias_de_todos"
   ]
  },
  {
   "cell_type": "code",
   "execution_count": 8,
   "metadata": {},
   "outputs": [],
   "source": [
    "def distancia_de_usuarios(usuario_id1, usuario_id2, minimo = 5):\n",
    "        # trás notas dos usuários 1 e 2\n",
    "        notas1 = notas_do_usuario(data_frame = df, usuario_id = usuario_id1)\n",
    "        notas2 = notas_do_usuario(data_frame = df, usuario_id = usuario_id2)\n",
    "\n",
    "        # trazer somente os filmes que os dois usuários assistiram\n",
    "        diferencas = notas1.join(notas2, lsuffix = '_esquerda', rsuffix = '_direita').dropna()\n",
    "\n",
    "        if(len(diferencas) < minimo):\n",
    "            return None\n",
    "\n",
    "        # calcula a distância entre os dois usuários\n",
    "        distancia = distancia_de_vetores(diferencas['nota_esquerda'], diferencas['nota_direita'])\n",
    "        return [usuario_id1, usuario_id2, distancia]"
   ]
  },
  {
   "cell_type": "code",
   "execution_count": 9,
   "metadata": {},
   "outputs": [],
   "source": [
    "def mais_proximos_de(self, id_usuario, n_mais_proximos = 5, numero_de_usuarios_a_analisar = None):\n",
    "        self.distancia_de_todos()\n",
    "        distancias = distancia_de_todos(id_usuario, numero_de_usuarios_a_analisar = numero_de_usuarios_a_analisar)\n",
    "        nearest = distancias.sort_values(by = 'distancia')\n",
    "        nearest = distancias.set_index('outra_pessoa').drop(id_usuario, errors = 'ignore')\n",
    "        \n",
    "        return nearest"
   ]
  },
  {
   "cell_type": "code",
   "execution_count": 10,
   "metadata": {},
   "outputs": [],
   "source": [
    "def distancia_de_todos(id_usuario, numero_de_usuarios_a_analisar = None):\n",
    "        todos_os_usuarios = notas['usuarioId'].unique()\n",
    "        if numero_de_usuarios_a_analisar:\n",
    "            todos_os_usuarios = todos_os_usuarios[:numero_de_usuarios_a_analisar]\n",
    "        distancia_a_todos = [distancia_de_usuarios(id_usuario, usuario_id) for usuario_id in todos_os_usuarios]\n",
    "        distancia_a_todos = list(filter(None, distancia_a_todos))\n",
    "        distancia_a_todos = pd.DataFrame(distancia_a_todos, columns = ['usuario', 'outro_usuario', 'distancia'])\n",
    "        return distancia_a_todos"
   ]
  },
  {
   "cell_type": "code",
   "execution_count": 11,
   "metadata": {},
   "outputs": [],
   "source": [
    "def sugere_para(data_frame, id_usuario, n_mais_proximos = 10, numero_de_usuarios_a_analisar = None):\n",
    "        # suas notas\n",
    "        notas_de_usuario = notas_do_usuario(data_frame, id_usuario)\n",
    "\n",
    "        # indice do filme visto por ti\n",
    "        filmes_vistos = notas_de_usuario.index\n",
    "\n",
    "        # pessoas similares\n",
    "        similares = mais_proximos_de(id_usuario, n_mais_proximos, numero_de_usuarios_a_analisar)\n",
    "        similares = similares.sort_values(by = 'distancia')\n",
    "        similares = similares.head(n_mais_proximos)\n",
    "        usuarios_similares = similares.index\n",
    "        notas_dos_similares = notas.set_index(['usuarioId']).loc[usuarios_similares]\n",
    "        recomendacoes = notas_dos_similares.groupby(by = 'filmeId').mean()[['nota']]\n",
    "        recomendacoes = recomendacoes.sort_values(by = 'nota', ascending = False)\n",
    "        recomendacoes = recomendacoes.join(filmes)\n",
    "        return recomendacoes"
   ]
  },
  {
   "cell_type": "markdown",
   "metadata": {},
   "source": [
    "# Chamando as funções"
   ]
  },
  {
   "cell_type": "code",
   "execution_count": 12,
   "metadata": {},
   "outputs": [],
   "source": [
    "filmes, notas = get_data(filmes_path = 'movies.csv', notas_path = 'ratings.csv')"
   ]
  },
  {
   "cell_type": "code",
   "execution_count": 13,
   "metadata": {},
   "outputs": [
    {
     "data": {
      "text/html": [
       "<div>\n",
       "<style scoped>\n",
       "    .dataframe tbody tr th:only-of-type {\n",
       "        vertical-align: middle;\n",
       "    }\n",
       "\n",
       "    .dataframe tbody tr th {\n",
       "        vertical-align: top;\n",
       "    }\n",
       "\n",
       "    .dataframe thead th {\n",
       "        text-align: right;\n",
       "    }\n",
       "</style>\n",
       "<table border=\"1\" class=\"dataframe\">\n",
       "  <thead>\n",
       "    <tr style=\"text-align: right;\">\n",
       "      <th></th>\n",
       "      <th>filmeId</th>\n",
       "      <th>titulo</th>\n",
       "      <th>generos</th>\n",
       "    </tr>\n",
       "  </thead>\n",
       "  <tbody>\n",
       "    <tr>\n",
       "      <th>0</th>\n",
       "      <td>1</td>\n",
       "      <td>Toy Story (1995)</td>\n",
       "      <td>Adventure|Animation|Children|Comedy|Fantasy</td>\n",
       "    </tr>\n",
       "    <tr>\n",
       "      <th>1</th>\n",
       "      <td>2</td>\n",
       "      <td>Jumanji (1995)</td>\n",
       "      <td>Adventure|Children|Fantasy</td>\n",
       "    </tr>\n",
       "    <tr>\n",
       "      <th>2</th>\n",
       "      <td>3</td>\n",
       "      <td>Grumpier Old Men (1995)</td>\n",
       "      <td>Comedy|Romance</td>\n",
       "    </tr>\n",
       "    <tr>\n",
       "      <th>3</th>\n",
       "      <td>4</td>\n",
       "      <td>Waiting to Exhale (1995)</td>\n",
       "      <td>Comedy|Drama|Romance</td>\n",
       "    </tr>\n",
       "    <tr>\n",
       "      <th>4</th>\n",
       "      <td>5</td>\n",
       "      <td>Father of the Bride Part II (1995)</td>\n",
       "      <td>Comedy</td>\n",
       "    </tr>\n",
       "  </tbody>\n",
       "</table>\n",
       "</div>"
      ],
      "text/plain": [
       "   filmeId                              titulo  \\\n",
       "0        1                    Toy Story (1995)   \n",
       "1        2                      Jumanji (1995)   \n",
       "2        3             Grumpier Old Men (1995)   \n",
       "3        4            Waiting to Exhale (1995)   \n",
       "4        5  Father of the Bride Part II (1995)   \n",
       "\n",
       "                                       generos  \n",
       "0  Adventure|Animation|Children|Comedy|Fantasy  \n",
       "1                   Adventure|Children|Fantasy  \n",
       "2                               Comedy|Romance  \n",
       "3                         Comedy|Drama|Romance  \n",
       "4                                       Comedy  "
      ]
     },
     "execution_count": 13,
     "metadata": {},
     "output_type": "execute_result"
    }
   ],
   "source": [
    "filmes.head()"
   ]
  },
  {
   "cell_type": "code",
   "execution_count": 14,
   "metadata": {},
   "outputs": [
    {
     "data": {
      "text/html": [
       "<div>\n",
       "<style scoped>\n",
       "    .dataframe tbody tr th:only-of-type {\n",
       "        vertical-align: middle;\n",
       "    }\n",
       "\n",
       "    .dataframe tbody tr th {\n",
       "        vertical-align: top;\n",
       "    }\n",
       "\n",
       "    .dataframe thead th {\n",
       "        text-align: right;\n",
       "    }\n",
       "</style>\n",
       "<table border=\"1\" class=\"dataframe\">\n",
       "  <thead>\n",
       "    <tr style=\"text-align: right;\">\n",
       "      <th></th>\n",
       "      <th>usuarioId</th>\n",
       "      <th>filmeId</th>\n",
       "      <th>nota</th>\n",
       "    </tr>\n",
       "  </thead>\n",
       "  <tbody>\n",
       "    <tr>\n",
       "      <th>0</th>\n",
       "      <td>1</td>\n",
       "      <td>1</td>\n",
       "      <td>4.0</td>\n",
       "    </tr>\n",
       "    <tr>\n",
       "      <th>1</th>\n",
       "      <td>1</td>\n",
       "      <td>3</td>\n",
       "      <td>4.0</td>\n",
       "    </tr>\n",
       "    <tr>\n",
       "      <th>2</th>\n",
       "      <td>1</td>\n",
       "      <td>6</td>\n",
       "      <td>4.0</td>\n",
       "    </tr>\n",
       "    <tr>\n",
       "      <th>3</th>\n",
       "      <td>1</td>\n",
       "      <td>47</td>\n",
       "      <td>5.0</td>\n",
       "    </tr>\n",
       "    <tr>\n",
       "      <th>4</th>\n",
       "      <td>1</td>\n",
       "      <td>50</td>\n",
       "      <td>5.0</td>\n",
       "    </tr>\n",
       "  </tbody>\n",
       "</table>\n",
       "</div>"
      ],
      "text/plain": [
       "   usuarioId  filmeId  nota\n",
       "0          1        1   4.0\n",
       "1          1        3   4.0\n",
       "2          1        6   4.0\n",
       "3          1       47   5.0\n",
       "4          1       50   5.0"
      ]
     },
     "execution_count": 14,
     "metadata": {},
     "output_type": "execute_result"
    }
   ],
   "source": [
    "notas.head()"
   ]
  },
  {
   "cell_type": "code",
   "execution_count": 15,
   "metadata": {},
   "outputs": [],
   "source": [
    "df = aux_df(df_notas = notas, df_filmes = filmes)"
   ]
  },
  {
   "cell_type": "code",
   "execution_count": 16,
   "metadata": {},
   "outputs": [
    {
     "data": {
      "text/html": [
       "<div>\n",
       "<style scoped>\n",
       "    .dataframe tbody tr th:only-of-type {\n",
       "        vertical-align: middle;\n",
       "    }\n",
       "\n",
       "    .dataframe tbody tr th {\n",
       "        vertical-align: top;\n",
       "    }\n",
       "\n",
       "    .dataframe thead th {\n",
       "        text-align: right;\n",
       "    }\n",
       "</style>\n",
       "<table border=\"1\" class=\"dataframe\">\n",
       "  <thead>\n",
       "    <tr style=\"text-align: right;\">\n",
       "      <th></th>\n",
       "      <th>usuarioId</th>\n",
       "      <th>filmeId</th>\n",
       "      <th>nota</th>\n",
       "      <th>titulo</th>\n",
       "      <th>generos</th>\n",
       "      <th>total_de_votos</th>\n",
       "      <th>nota_media</th>\n",
       "    </tr>\n",
       "  </thead>\n",
       "  <tbody>\n",
       "    <tr>\n",
       "      <th>0</th>\n",
       "      <td>1</td>\n",
       "      <td>1</td>\n",
       "      <td>4.0</td>\n",
       "      <td>Toy Story (1995)</td>\n",
       "      <td>Adventure|Animation|Children|Comedy|Fantasy</td>\n",
       "      <td>215</td>\n",
       "      <td>3.920930</td>\n",
       "    </tr>\n",
       "    <tr>\n",
       "      <th>1</th>\n",
       "      <td>1</td>\n",
       "      <td>3</td>\n",
       "      <td>4.0</td>\n",
       "      <td>Grumpier Old Men (1995)</td>\n",
       "      <td>Comedy|Romance</td>\n",
       "      <td>52</td>\n",
       "      <td>3.259615</td>\n",
       "    </tr>\n",
       "    <tr>\n",
       "      <th>2</th>\n",
       "      <td>1</td>\n",
       "      <td>6</td>\n",
       "      <td>4.0</td>\n",
       "      <td>Heat (1995)</td>\n",
       "      <td>Action|Crime|Thriller</td>\n",
       "      <td>102</td>\n",
       "      <td>3.946078</td>\n",
       "    </tr>\n",
       "    <tr>\n",
       "      <th>3</th>\n",
       "      <td>1</td>\n",
       "      <td>47</td>\n",
       "      <td>5.0</td>\n",
       "      <td>Seven (a.k.a. Se7en) (1995)</td>\n",
       "      <td>Mystery|Thriller</td>\n",
       "      <td>203</td>\n",
       "      <td>3.975369</td>\n",
       "    </tr>\n",
       "    <tr>\n",
       "      <th>4</th>\n",
       "      <td>1</td>\n",
       "      <td>50</td>\n",
       "      <td>5.0</td>\n",
       "      <td>Usual Suspects, The (1995)</td>\n",
       "      <td>Crime|Mystery|Thriller</td>\n",
       "      <td>204</td>\n",
       "      <td>4.237745</td>\n",
       "    </tr>\n",
       "  </tbody>\n",
       "</table>\n",
       "</div>"
      ],
      "text/plain": [
       "   usuarioId  filmeId  nota                       titulo  \\\n",
       "0          1        1   4.0             Toy Story (1995)   \n",
       "1          1        3   4.0      Grumpier Old Men (1995)   \n",
       "2          1        6   4.0                  Heat (1995)   \n",
       "3          1       47   5.0  Seven (a.k.a. Se7en) (1995)   \n",
       "4          1       50   5.0   Usual Suspects, The (1995)   \n",
       "\n",
       "                                       generos  total_de_votos  nota_media  \n",
       "0  Adventure|Animation|Children|Comedy|Fantasy             215    3.920930  \n",
       "1                               Comedy|Romance              52    3.259615  \n",
       "2                        Action|Crime|Thriller             102    3.946078  \n",
       "3                             Mystery|Thriller             203    3.975369  \n",
       "4                       Crime|Mystery|Thriller             204    4.237745  "
      ]
     },
     "execution_count": 16,
     "metadata": {},
     "output_type": "execute_result"
    }
   ],
   "source": [
    "df.head()"
   ]
  },
  {
   "cell_type": "code",
   "execution_count": 17,
   "metadata": {},
   "outputs": [],
   "source": [
    "notas_do_usuario_1 = notas_do_usuario(data_frame = df, usuario_id = 1)"
   ]
  },
  {
   "cell_type": "code",
   "execution_count": 18,
   "metadata": {},
   "outputs": [],
   "source": [
    "notas_do_usuario_2 = notas_do_usuario(data_frame = df, usuario_id = 2)"
   ]
  },
  {
   "cell_type": "code",
   "execution_count": 19,
   "metadata": {},
   "outputs": [
    {
     "data": {
      "text/html": [
       "<div>\n",
       "<style scoped>\n",
       "    .dataframe tbody tr th:only-of-type {\n",
       "        vertical-align: middle;\n",
       "    }\n",
       "\n",
       "    .dataframe tbody tr th {\n",
       "        vertical-align: top;\n",
       "    }\n",
       "\n",
       "    .dataframe thead th {\n",
       "        text-align: right;\n",
       "    }\n",
       "</style>\n",
       "<table border=\"1\" class=\"dataframe\">\n",
       "  <thead>\n",
       "    <tr style=\"text-align: right;\">\n",
       "      <th></th>\n",
       "      <th>nota</th>\n",
       "    </tr>\n",
       "    <tr>\n",
       "      <th>filmeId</th>\n",
       "      <th></th>\n",
       "    </tr>\n",
       "  </thead>\n",
       "  <tbody>\n",
       "    <tr>\n",
       "      <th>1</th>\n",
       "      <td>4.0</td>\n",
       "    </tr>\n",
       "    <tr>\n",
       "      <th>3</th>\n",
       "      <td>4.0</td>\n",
       "    </tr>\n",
       "    <tr>\n",
       "      <th>6</th>\n",
       "      <td>4.0</td>\n",
       "    </tr>\n",
       "    <tr>\n",
       "      <th>47</th>\n",
       "      <td>5.0</td>\n",
       "    </tr>\n",
       "    <tr>\n",
       "      <th>50</th>\n",
       "      <td>5.0</td>\n",
       "    </tr>\n",
       "  </tbody>\n",
       "</table>\n",
       "</div>"
      ],
      "text/plain": [
       "         nota\n",
       "filmeId      \n",
       "1         4.0\n",
       "3         4.0\n",
       "6         4.0\n",
       "47        5.0\n",
       "50        5.0"
      ]
     },
     "execution_count": 19,
     "metadata": {},
     "output_type": "execute_result"
    }
   ],
   "source": [
    "notas_do_usuario_1.head()"
   ]
  },
  {
   "cell_type": "code",
   "execution_count": 20,
   "metadata": {},
   "outputs": [
    {
     "data": {
      "text/html": [
       "<div>\n",
       "<style scoped>\n",
       "    .dataframe tbody tr th:only-of-type {\n",
       "        vertical-align: middle;\n",
       "    }\n",
       "\n",
       "    .dataframe tbody tr th {\n",
       "        vertical-align: top;\n",
       "    }\n",
       "\n",
       "    .dataframe thead th {\n",
       "        text-align: right;\n",
       "    }\n",
       "</style>\n",
       "<table border=\"1\" class=\"dataframe\">\n",
       "  <thead>\n",
       "    <tr style=\"text-align: right;\">\n",
       "      <th></th>\n",
       "      <th>nota</th>\n",
       "    </tr>\n",
       "    <tr>\n",
       "      <th>filmeId</th>\n",
       "      <th></th>\n",
       "    </tr>\n",
       "  </thead>\n",
       "  <tbody>\n",
       "    <tr>\n",
       "      <th>1</th>\n",
       "      <td>4.0</td>\n",
       "    </tr>\n",
       "    <tr>\n",
       "      <th>3</th>\n",
       "      <td>4.0</td>\n",
       "    </tr>\n",
       "    <tr>\n",
       "      <th>6</th>\n",
       "      <td>4.0</td>\n",
       "    </tr>\n",
       "    <tr>\n",
       "      <th>47</th>\n",
       "      <td>5.0</td>\n",
       "    </tr>\n",
       "    <tr>\n",
       "      <th>50</th>\n",
       "      <td>5.0</td>\n",
       "    </tr>\n",
       "  </tbody>\n",
       "</table>\n",
       "</div>"
      ],
      "text/plain": [
       "         nota\n",
       "filmeId      \n",
       "1         4.0\n",
       "3         4.0\n",
       "6         4.0\n",
       "47        5.0\n",
       "50        5.0"
      ]
     },
     "execution_count": 20,
     "metadata": {},
     "output_type": "execute_result"
    }
   ],
   "source": [
    "notas_do_usuario_1.head()"
   ]
  },
  {
   "cell_type": "code",
   "execution_count": 21,
   "metadata": {},
   "outputs": [],
   "source": [
    "distancia_de_usuarios = distancia_de_usuarios(usuario_id1 = 1, usuario_id2 = 2, minimo = 5)"
   ]
  },
  {
   "cell_type": "code",
   "execution_count": 22,
   "metadata": {},
   "outputs": [],
   "source": [
    "distancia_de_usuarios"
   ]
  },
  {
   "cell_type": "code",
   "execution_count": 23,
   "metadata": {},
   "outputs": [],
   "source": [
    "def distancia_de_todos(id_usuario, numero_de_usuarios_a_analisar = None):\n",
    "        todos_os_usuarios = notas['usuarioId'].unique()\n",
    "        if numero_de_usuarios_a_analisar:\n",
    "            todos_os_usuarios = todos_os_usuarios[:numero_de_usuarios_a_analisar]\n",
    "        distancia_a_todos = [distancia_de_usuarios(id_usuario, usuario_id) for usuario_id in todos_os_usuarios]\n",
    "        distancia_a_todos = list(filter(None, distancia_a_todos))\n",
    "        distancia_a_todos = pd.DataFrame(distancia_a_todos, columns = ['usuario', 'outro_usuario', 'distancia'])\n",
    "        return distancia_a_todos"
   ]
  },
  {
   "cell_type": "code",
   "execution_count": 24,
   "metadata": {},
   "outputs": [
    {
     "ename": "NameError",
     "evalue": "name 'distancia_a_todos' is not defined",
     "output_type": "error",
     "traceback": [
      "\u001b[1;31m---------------------------------------------------------------------------\u001b[0m",
      "\u001b[1;31mNameError\u001b[0m                                 Traceback (most recent call last)",
      "\u001b[1;32mc:\\Users\\pedro\\OneDrive\\Documentos\\recommendation_system\\rec_system_em_funcoes.ipynb Cell 28\u001b[0m in \u001b[0;36m<cell line: 1>\u001b[1;34m()\u001b[0m\n\u001b[1;32m----> <a href='vscode-notebook-cell:/c%3A/Users/pedro/OneDrive/Documentos/recommendation_system/rec_system_em_funcoes.ipynb#ch0000027?line=0'>1</a>\u001b[0m distancia_a_todos\n",
      "\u001b[1;31mNameError\u001b[0m: name 'distancia_a_todos' is not defined"
     ]
    }
   ],
   "source": [
    "distancia_a_todos"
   ]
  },
  {
   "cell_type": "code",
   "execution_count": null,
   "metadata": {},
   "outputs": [
    {
     "ename": "AttributeError",
     "evalue": "'int' object has no attribute 'distancia_de_todos'",
     "output_type": "error",
     "traceback": [
      "\u001b[1;31m---------------------------------------------------------------------------\u001b[0m",
      "\u001b[1;31mAttributeError\u001b[0m                            Traceback (most recent call last)",
      "\u001b[1;32mc:\\Users\\pedro\\OneDrive\\Documentos\\recommendation_system\\rec_system_em_funcoes.ipynb Cell 27\u001b[0m in \u001b[0;36m<cell line: 1>\u001b[1;34m()\u001b[0m\n\u001b[1;32m----> <a href='vscode-notebook-cell:/c%3A/Users/pedro/OneDrive/Documentos/recommendation_system/rec_system_em_funcoes.ipynb#ch0000035?line=0'>1</a>\u001b[0m sugere_para(data_frame \u001b[39m=\u001b[39;49m df, id_usuario \u001b[39m=\u001b[39;49m \u001b[39m1\u001b[39;49m, n_mais_proximos \u001b[39m=\u001b[39;49m \u001b[39m10\u001b[39;49m, numero_de_usuarios_a_analisar \u001b[39m=\u001b[39;49m \u001b[39m50\u001b[39;49m)\n",
      "\u001b[1;32mc:\\Users\\pedro\\OneDrive\\Documentos\\recommendation_system\\rec_system_em_funcoes.ipynb Cell 27\u001b[0m in \u001b[0;36msugere_para\u001b[1;34m(data_frame, id_usuario, n_mais_proximos, numero_de_usuarios_a_analisar)\u001b[0m\n\u001b[0;32m      <a href='vscode-notebook-cell:/c%3A/Users/pedro/OneDrive/Documentos/recommendation_system/rec_system_em_funcoes.ipynb#ch0000035?line=5'>6</a>\u001b[0m filmes_vistos \u001b[39m=\u001b[39m notas_de_usuario\u001b[39m.\u001b[39mindex\n\u001b[0;32m      <a href='vscode-notebook-cell:/c%3A/Users/pedro/OneDrive/Documentos/recommendation_system/rec_system_em_funcoes.ipynb#ch0000035?line=7'>8</a>\u001b[0m \u001b[39m# pessoas similares\u001b[39;00m\n\u001b[1;32m----> <a href='vscode-notebook-cell:/c%3A/Users/pedro/OneDrive/Documentos/recommendation_system/rec_system_em_funcoes.ipynb#ch0000035?line=8'>9</a>\u001b[0m similares \u001b[39m=\u001b[39m mais_proximos_de(id_usuario, n_mais_proximos, numero_de_usuarios_a_analisar)\n\u001b[0;32m     <a href='vscode-notebook-cell:/c%3A/Users/pedro/OneDrive/Documentos/recommendation_system/rec_system_em_funcoes.ipynb#ch0000035?line=9'>10</a>\u001b[0m similares \u001b[39m=\u001b[39m similares\u001b[39m.\u001b[39msort_values(by \u001b[39m=\u001b[39m \u001b[39m'\u001b[39m\u001b[39mdistancia\u001b[39m\u001b[39m'\u001b[39m)\n\u001b[0;32m     <a href='vscode-notebook-cell:/c%3A/Users/pedro/OneDrive/Documentos/recommendation_system/rec_system_em_funcoes.ipynb#ch0000035?line=10'>11</a>\u001b[0m similares \u001b[39m=\u001b[39m similares\u001b[39m.\u001b[39mhead(n_mais_proximos)\n",
      "\u001b[1;32mc:\\Users\\pedro\\OneDrive\\Documentos\\recommendation_system\\rec_system_em_funcoes.ipynb Cell 27\u001b[0m in \u001b[0;36mmais_proximos_de\u001b[1;34m(self, id_usuario, n_mais_proximos, numero_de_usuarios_a_analisar)\u001b[0m\n\u001b[0;32m      <a href='vscode-notebook-cell:/c%3A/Users/pedro/OneDrive/Documentos/recommendation_system/rec_system_em_funcoes.ipynb#ch0000035?line=0'>1</a>\u001b[0m \u001b[39mdef\u001b[39;00m \u001b[39mmais_proximos_de\u001b[39m(\u001b[39mself\u001b[39m, id_usuario, n_mais_proximos \u001b[39m=\u001b[39m \u001b[39m5\u001b[39m, numero_de_usuarios_a_analisar \u001b[39m=\u001b[39m \u001b[39mNone\u001b[39;00m):\n\u001b[1;32m----> <a href='vscode-notebook-cell:/c%3A/Users/pedro/OneDrive/Documentos/recommendation_system/rec_system_em_funcoes.ipynb#ch0000035?line=1'>2</a>\u001b[0m         \u001b[39mself\u001b[39;49m\u001b[39m.\u001b[39;49mdistancia_de_todos()\n\u001b[0;32m      <a href='vscode-notebook-cell:/c%3A/Users/pedro/OneDrive/Documentos/recommendation_system/rec_system_em_funcoes.ipynb#ch0000035?line=2'>3</a>\u001b[0m         distancias \u001b[39m=\u001b[39m distancia_de_todos(id_usuario, numero_de_usuarios_a_analisar \u001b[39m=\u001b[39m numero_de_usuarios_a_analisar)\n\u001b[0;32m      <a href='vscode-notebook-cell:/c%3A/Users/pedro/OneDrive/Documentos/recommendation_system/rec_system_em_funcoes.ipynb#ch0000035?line=3'>4</a>\u001b[0m         nearest \u001b[39m=\u001b[39m distancias\u001b[39m.\u001b[39msort_values(by \u001b[39m=\u001b[39m \u001b[39m'\u001b[39m\u001b[39mdistancia\u001b[39m\u001b[39m'\u001b[39m)\n",
      "\u001b[1;31mAttributeError\u001b[0m: 'int' object has no attribute 'distancia_de_todos'"
     ]
    }
   ],
   "source": [
    "sugere_para(data_frame = df, id_usuario = 1, n_mais_proximos = 10, numero_de_usuarios_a_analisar = 50)"
   ]
  },
  {
   "cell_type": "code",
   "execution_count": null,
   "metadata": {},
   "outputs": [],
   "source": []
  },
  {
   "cell_type": "code",
   "execution_count": null,
   "metadata": {},
   "outputs": [],
   "source": []
  }
 ],
 "metadata": {
  "kernelspec": {
   "display_name": "Python 3.10.4 64-bit",
   "language": "python",
   "name": "python3"
  },
  "language_info": {
   "codemirror_mode": {
    "name": "ipython",
    "version": 3
   },
   "file_extension": ".py",
   "mimetype": "text/x-python",
   "name": "python",
   "nbconvert_exporter": "python",
   "pygments_lexer": "ipython3",
   "version": "3.10.4"
  },
  "orig_nbformat": 4,
  "vscode": {
   "interpreter": {
    "hash": "c3503f95e0e8f4afdf6702396a7a2a29cae9f67572acfe092405dcaa2579b817"
   }
  }
 },
 "nbformat": 4,
 "nbformat_minor": 2
}
